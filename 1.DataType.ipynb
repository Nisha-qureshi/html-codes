{
 "cells": [
  {
   "cell_type": "code",
   "execution_count": 1,
   "metadata": {},
   "outputs": [
    {
     "name": "stdout",
     "output_type": "stream",
     "text": [
      "Hello World\n"
     ]
    }
   ],
   "source": [
    "print(\"Hello World\")"
   ]
  },
  {
   "cell_type": "code",
   "execution_count": 2,
   "metadata": {},
   "outputs": [
    {
     "name": "stdout",
     "output_type": "stream",
     "text": [
      "\n",
      "*\n",
      "**\n",
      "***\n",
      "****\n",
      "*****\n",
      "******\n",
      "*******\n",
      "********\n",
      "*********\n"
     ]
    }
   ],
   "source": [
    "for var in range(10): \n",
    "    print(\"*\"*var)"
   ]
  },
  {
   "cell_type": "code",
   "execution_count": 4,
   "metadata": {},
   "outputs": [],
   "source": [
    "fp = open(\"output.txt\",\"w\")\n",
    "print(\"Hello World\",file=fp)\n",
    "\n",
    "for var in range(10): \n",
    "    print(\"*\"*var,file=fp)\n",
    "    \n",
    "for var in range(10): \n",
    "    print(\" \"*var,\"*\"*(10-var),file=fp)\n",
    "    \n",
    "fp.close()"
   ]
  },
  {
   "cell_type": "code",
   "execution_count": 5,
   "metadata": {},
   "outputs": [
    {
     "name": "stdout",
     "output_type": "stream",
     "text": [
      "hello world\n"
     ]
    }
   ],
   "source": [
    "# print is a function to print some data on output screen\n",
    "print(\"hello world\") # here hello world will return on stdout"
   ]
  },
  {
   "cell_type": "markdown",
   "metadata": {},
   "source": [
    "# Data Type\n",
    "## Numbers\n",
    "### Strings\n",
    "#### List\n",
    "##### Dictionary\n",
    "##### Set \n",
    "\n",
    "    print(\"hello world\")\n",
    "        print(\"Hi World\") #Wrong because of indentation"
   ]
  },
  {
   "cell_type": "markdown",
   "metadata": {},
   "source": [
    "<h1 style='color:red'> Data Types </h1>\n",
    "\n",
    "<ol>\n",
    "    <li> Numbers </li>\n",
    "    <li> String </li>\n",
    "    <li> List </li>\n",
    "    <li> Tuple </li> \n",
    "    <li> Dictionary </li>\n",
    "    <li> Set </li>\n",
    "    <li> Frozen Sets </li>\n",
    "    <li> Boolean </li>\n",
    "</ol>\n",
    "\n",
    "<img src=\"one.png\" height=400 width=400>\n"
   ]
  },
  {
   "cell_type": "code",
   "execution_count": 6,
   "metadata": {},
   "outputs": [
    {
     "name": "stdout",
     "output_type": "stream",
     "text": [
      " Volume in drive C is Windows\n",
      " Volume Serial Number is 92FD-5B19\n",
      "\n",
      " Directory of C:\\Users\\hp\\Desktop\\SummerInternBatch2019\n",
      "\n",
      "13-05-2019  10:15    <DIR>          .\n",
      "13-05-2019  10:15    <DIR>          ..\n",
      "13-05-2019  10:05    <DIR>          .ipynb_checkpoints\n",
      "13-05-2019  10:14             2,765 1.DataType.ipynb\n",
      "11-05-2019  13:26             2,215 GIT_COMMANDS.txt\n",
      "11-05-2019  12:53               146 hello.py\n",
      "13-05-2019  10:15            45,031 one.png\n",
      "13-05-2019  10:08               208 Output.txt\n",
      "11-05-2019  11:54                35 README.md\n",
      "11-05-2019  13:11               188 welcome.py\n",
      "               7 File(s)         50,588 bytes\n",
      "               3 Dir(s)  12,250,767,360 bytes free\n"
     ]
    }
   ],
   "source": [
    "ls\n"
   ]
  },
  {
   "cell_type": "code",
   "execution_count": null,
   "metadata": {},
   "outputs": [],
   "source": []
  }
 ],
 "metadata": {
  "kernelspec": {
   "display_name": "Python 3",
   "language": "python",
   "name": "python3"
  },
  "language_info": {
   "codemirror_mode": {
    "name": "ipython",
    "version": 3
   },
   "file_extension": ".py",
   "mimetype": "text/x-python",
   "name": "python",
   "nbconvert_exporter": "python",
   "pygments_lexer": "ipython3",
   "version": "3.7.1"
  }
 },
 "nbformat": 4,
 "nbformat_minor": 2
}
