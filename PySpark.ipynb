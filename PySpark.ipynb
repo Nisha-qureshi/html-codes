{
 "cells": [
  {
   "cell_type": "markdown",
   "metadata": {
    "slideshow": {
     "slide_type": "slide"
    }
   },
   "source": [
    "<h1 style='color:red'> PySpark vs Pandas</h2>\n",
    "<h4>Note : remember spark objects are immutable and it performs lazy computation</h4>"
   ]
  },
  {
   "cell_type": "markdown",
   "metadata": {
    "slideshow": {
     "slide_type": "slide"
    }
   },
   "source": [
    "<h2 style='color:red'>Spark Architecture</h2>\n",
    "<img src='spark1.jpg'>\n"
   ]
  },
  {
   "cell_type": "markdown",
   "metadata": {
    "slideshow": {
     "slide_type": "slide"
    }
   },
   "source": [
    "<img src='spark2.png'>"
   ]
  },
  {
   "cell_type": "raw",
   "metadata": {
    "slideshow": {
     "slide_type": "slide"
    }
   },
   "source": [
    "A. Install pyspark by extracting and setting up the path\n",
    "B. PYSPARK_DIRVER_PYTHON=ipython pyspark #if you want to run ipython shell with pyspark\n",
    "C. PYSPARK_DRIVER_PYTHON=jupyter\n",
    "   PYSPARK_DRIVER_PYTHON_OPTS=notebook\n",
    "   pyspark"
   ]
  },
  {
   "cell_type": "markdown",
   "metadata": {
    "slideshow": {
     "slide_type": "slide"
    }
   },
   "source": [
    "<h1 style='color:#123456'>Pandas vs PySpark</h1>"
   ]
  },
  {
   "cell_type": "markdown",
   "metadata": {
    "slideshow": {
     "slide_type": "notes"
    }
   },
   "source": [
    "<h2 style='color:red'><b>Load CSV file</b></h2>\n",
    "\n",
    "<h2 style='color:#123456'>Pandas</h3>\n",
    "\n",
    "<h3> df = pd.read_csv(\"mtcars.csv\")</h3>\n",
    "\n",
    "<h2 style='color:#123456'>PySpark</h2>\n",
    "\n",
    "<h3> df = spark.read.options(header=True,inferSchema=True).csv(\"mtcars.csv\")</h3>"
   ]
  },
  {
   "cell_type": "markdown",
   "metadata": {
    "slideshow": {
     "slide_type": "slide"
    }
   },
   "source": [
    "<br /><br />\n",
    "<h2 style='color:red'><b>View Data Frame</b></h2>\n",
    "\n",
    "<h2 style='color:#123456'>Pandas</h3>\n",
    "\n",
    "<h3> df</h3>\n",
    "<h3> df.head(10)</h3>\n",
    "\n",
    "<h2 style='color:#123456'>PySpark</h2>\n",
    "\n",
    "<h3> df.show()</h3>\n",
    "<h3> df.show(10)</h3>\n"
   ]
  },
  {
   "cell_type": "markdown",
   "metadata": {
    "slideshow": {
     "slide_type": "slide"
    }
   },
   "source": [
    "<br /><br />\n",
    "<h2 style='color:red'><b>Columns and Data Types</b></h2>\n",
    "\n",
    "<h2 style='color:#123456'>Pandas</h3>\n",
    "\n",
    "<h3> df.columns</h3>\n",
    "<h3> df.dtypes</h3>\n",
    "\n",
    "<h2 style='color:#123456'>PySpark</h2>\n",
    "\n",
    "<h3> df.columns</h3>\n",
    "<h3> df.dtypes</h3>"
   ]
  },
  {
   "cell_type": "markdown",
   "metadata": {
    "slideshow": {
     "slide_type": "slide"
    }
   },
   "source": [
    "<br /><br />\n",
    "<h2 style='color:red'><b>Renaming Columns</b></h2>\n",
    "\n",
    "<h2 style='color:#123456'>Pandas</h3>\n",
    "\n",
    "<h3> df.columns=['a','b','c']</h3>\n",
    "<h3> df.rename(columns={'old':'new'})</h3>\n",
    "\n",
    "<h2 style='color:#123456'>PySpark</h2>\n",
    "\n",
    "<h3> df.toDF('a','b','c')</h3>\n",
    "<h3> df.withColumnRenamed('old','new')</h3>"
   ]
  },
  {
   "cell_type": "markdown",
   "metadata": {
    "slideshow": {
     "slide_type": "slide"
    }
   },
   "source": [
    "<br /><br />\n",
    "<h2 style='color:red'><b>Drop Column</b></h2>\n",
    "<h2 style='color:#123456'>Pandas</h3>\n",
    "<h3> df.drop('mpg',axis=1)</h3>\n",
    "<h2 style='color:#123456'>PySpark</h2>\n",
    "<h3> df.drop('mpg')</h3>"
   ]
  },
  {
   "cell_type": "markdown",
   "metadata": {
    "slideshow": {
     "slide_type": "slide"
    }
   },
   "source": [
    "<br /><br />\n",
    "<h2 style='color:red'><b>Filtering</b></h2>\n",
    "<h2 style='color:#123456'>Pandas</h3>\n",
    "<h3> df[df.mpg < 20]</h3>\n",
    "<h3> df[(df.mpg < 20) & (df.cyl == 6)]</h3>\n",
    "<h2 style='color:#123456'>PySpark</h2>\n",
    "<h3> df[df.mpg < 20]</h3>\n",
    "<h3> df[(df.mpg < 20) & (df.cyl == 6)]</h3>"
   ]
  },
  {
   "cell_type": "markdown",
   "metadata": {
    "slideshow": {
     "slide_type": "slide"
    }
   },
   "source": [
    "<br /><br />\n",
    "<h2 style='color:red'><b>Add Column</b></h2>\n",
    "<h2 style='color:#123456'>Pandas</h3>\n",
    "<h3> df['gpm'] = 1 / df.mpg </h3>\n",
    "<h2 style='color:#123456'>PySpark</h2>\n",
    "<h3> df.withColumn('gpm',1/df.mpg)</h3>"
   ]
  },
  {
   "cell_type": "markdown",
   "metadata": {
    "slideshow": {
     "slide_type": "slide"
    }
   },
   "source": [
    "<br /><br />\n",
    "<h2 style='color:red'><b>Fill Nulls</b></h2>\n",
    "<h2 style='color:#123456'>Pandas</h3>\n",
    "<h3> df.fillna(0)</h3>\n",
    "<h2 style='color:#123456'>PySpark</h2>\n",
    "<h3> df.fillna(0)</h3>"
   ]
  },
  {
   "cell_type": "markdown",
   "metadata": {
    "slideshow": {
     "slide_type": "slide"
    }
   },
   "source": [
    "<br /><br />\n",
    "<h2 style='color:red'><b>Aggregation</b></h2>\n",
    "<h2 style='color:#123456'>Pandas</h3>\n",
    "<h3> df.groupby(['cyl','gear']).agg({'mpg':'mean','disp':'min'})</h3>\n",
    "<h2 style='color:#123456'>PySpark</h2>\n",
    "<h3> df.groupby(['cyl','gear']).agg({'mpg':'mean','disp':'min'})</h3>"
   ]
  },
  {
   "cell_type": "markdown",
   "metadata": {
    "slideshow": {
     "slide_type": "slide"
    }
   },
   "source": [
    "<br /><br />\n",
    "<h2 style='color:red'><b>Standard Transformations</b></h2>\n",
    "<h2 style='color:#123456'>Pandas</h3>\n",
    "<h3> import numpy as np </h3>\n",
    "<h3> df['logdisp'] = np.log(df.disp)</h3>\n",
    "<h2 style='color:#123456'>PySpark</h2>\n",
    "<h3> import pyspark.sql.functions as F</h3>\n",
    "<h5> note :- keep it in jvm </h5>\n",
    "<h3> df.withColumn('logdisp',F.log(df.disp))</h3>"
   ]
  },
  {
   "cell_type": "markdown",
   "metadata": {
    "slideshow": {
     "slide_type": "slide"
    }
   },
   "source": [
    "<br /><br />\n",
    "<h2 style='color:red'><b>Row Conditional Statements</b></h2>\n",
    "<h2 style='color:#123456'>Pandas</h3>\n",
    "<h3> df['cond'] = df.apply(lambda r: 1 if r.mpg > 20 else 2 if r.cyl == 6 else 3, axis=1)</h3>\n",
    "<h2 style='color:#123456'>PySpark</h2>\n",
    "<h3> import pyspark.sql.functions as F</h3>\n",
    "<h3> df.withColumn('cond', F.when(df.mpg>20,1).when(df.cyl==6,2).otherwise(3)</h3>"
   ]
  },
  {
   "cell_type": "markdown",
   "metadata": {
    "slideshow": {
     "slide_type": "slide"
    }
   },
   "source": [
    "<br /><br />\n",
    "<h2 style='color:red'><b>Python When Required</b></h2>\n",
    "<h2 style='color:#123456'>Pandas</h3>\n",
    "<h3> import numpy as np </h3>\n",
    "<h3> df['disp1'] = df.disp.apply(lambda x: x+1)</h3>\n",
    "<h3> import pyspark.sql.functions as F</h3>\n",
    "<h3> from pyspark.sql.types import DoubleType</h3>\n",
    "<h3> fn = F.udf(lambda x: x+1,DoubleType())</h3>\n",
    "<h3> df.withColumn('disp1',fn(df.disp))"
   ]
  },
  {
   "cell_type": "markdown",
   "metadata": {
    "slideshow": {
     "slide_type": "slide"
    }
   },
   "source": [
    "<br /><br />\n",
    "<h2 style='color:red'><b>Merger/Join DataFrames</b></h2>\n",
    "<h2 style='color:#123456'>Pandas</h3>\n",
    "<h3> left.merge(right,on='key')</h3>\n",
    "<h3> left.merge(right,left_on='a',right_on='b'</h3>\n",
    "<h2 style='color:#123456'>PySpark</h2>\n",
    "<h3> left.join(right,on='key')</h3>\n",
    "<h3> left.join(right,left.a == right.b)</h3>"
   ]
  },
  {
   "cell_type": "markdown",
   "metadata": {
    "slideshow": {
     "slide_type": "slide"
    }
   },
   "source": [
    "<br /><br />\n",
    "<h2 style='color:red'><b>Pivot Table</b></h2>\n",
    "<h2 style='color:#123456'>Pandas</h3>\n",
    "<h3> pd.pivot_table(df,values='D',index=['A','B'],columns=['C'],aggfunc=np.sum)</h3>\n",
    "<h2 style='color:#123456'>PySpark</h2>\n",
    "<h3> df.groupBy(\"A\",\"B\").pivot(\"C\").sum(\"D\")</h3>"
   ]
  },
  {
   "cell_type": "markdown",
   "metadata": {
    "slideshow": {
     "slide_type": "slide"
    }
   },
   "source": [
    "<br /><br />\n",
    "<h2 style='color:red'><b>Summary Statistics</b></h2>\n",
    "<h2 style='color:#123456'>Pandas</h3>\n",
    "<h3> df.describe()</h3>\n",
    "<h2 style='color:#123456'>PySpark</h2>\n",
    "<h3> df.describe().show() <b>(only count,mean,stddev,min,max)</b></h3>\n",
    "<h3>df.selectExpr(\"percentile_approx(mpg,array(.25,.5,.75)) as mpg\").show()"
   ]
  },
  {
   "cell_type": "markdown",
   "metadata": {
    "slideshow": {
     "slide_type": "slide"
    }
   },
   "source": [
    "<br /><br />\n",
    "<h2 style='color:red'><b>Histogram</b></h2>\n",
    "<h2 style='color:#123456'>Pandas</h3>\n",
    "<h3> df.hist()</h3>\n",
    "<h2 style='color:#123456'>PySpark</h2>\n",
    "<h3> df.sample(False,0.1).toPandas().hist()</h3>"
   ]
  },
  {
   "cell_type": "markdown",
   "metadata": {
    "slideshow": {
     "slide_type": "slide"
    }
   },
   "source": [
    "<br /><br />\n",
    "<h2 style='color:red'><b>SQL</b></h2>\n",
    "<h2 style='color:#123456'>Pandas</h3>\n",
    "<h3> n/a</h3>\n",
    "<h2 style='color:#123456'>PySpark</h2>\n",
    "<h3> df.createOrReplaceTempView('foo')</h3>\n",
    "<h3> df2 = spark.sql('select * from foo')</h3>"
   ]
  },
  {
   "cell_type": "markdown",
   "metadata": {
    "slideshow": {
     "slide_type": "slide"
    }
   },
   "source": [
    "<br /><br />\n",
    "<h2 style='color:red'><b>Make Sure To</b></h2>\n",
    "<ul>\n",
    "    <li style='color:#222222'>Use pyspark.sql.functions and other built in functions.</li>\n",
    "    <li style='color:#222222'>Use the same version of python and packages on cluster as driver.</li>\n",
    "    <li style='color:#222222'>Check out the UI at http://localhost:4040</li>\n",
    "    <li style='color:#222222'>Check out https://spark.apache.org/docs/latest/</li>\n",
    "</ul>"
   ]
  },
  {
   "cell_type": "markdown",
   "metadata": {
    "slideshow": {
     "slide_type": "slide"
    }
   },
   "source": [
    "<h1 style='color:red'>Things Not to Do </h1>\n",
    "\n",
    "<ul>\n",
    "    <li style='color:#222222'>Try to iterate through rows</li>\n",
    "    </ul>\n",
    "<h2 style='color:red'>If Things Go Wrong</h2>\n",
    "<ul>\n",
    "    <li style='color:#222222'>Don't panic!</li>\n",
    "    <li style='color:#222222'>Read the error</li>\n",
    "    <li style='color:#222222'>Search/Ask Stack Overflow (tag apache.spark)</li>\n",
    "</ul>\n",
    "    "
   ]
  },
  {
   "cell_type": "code",
   "execution_count": null,
   "metadata": {},
   "outputs": [],
   "source": []
  }
 ],
 "metadata": {
  "celltoolbar": "Slideshow",
  "kernelspec": {
   "display_name": "Python 3",
   "language": "python",
   "name": "python3"
  },
  "language_info": {
   "codemirror_mode": {
    "name": "ipython",
    "version": 3
   },
   "file_extension": ".py",
   "mimetype": "text/x-python",
   "name": "python",
   "nbconvert_exporter": "python",
   "pygments_lexer": "ipython3",
   "version": "3.6.5"
  }
 },
 "nbformat": 4,
 "nbformat_minor": 2
}
